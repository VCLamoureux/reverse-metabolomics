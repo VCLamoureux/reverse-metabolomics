{
 "cells": [
  {
   "cell_type": "code",
   "execution_count": 127,
   "metadata": {},
   "outputs": [],
   "source": [
    "#First, import the necessary packages\n",
    "\n",
    "import pandas as pd\n",
    "import numpy as np\n",
    "import seaborn as sns\n",
    "import matplotlib.pyplot as plt\n",
    "import matplotlib as mpl\n",
    "from matplotlib.colors import LinearSegmentedColormap\n",
    "mpl.rcParams['pdf.fonttype'] = 42\n",
    "mpl.rcParams['ps.fonttype'] = 42\n"
   ]
  },
  {
   "cell_type": "code",
   "execution_count": 128,
   "metadata": {},
   "outputs": [],
   "source": [
    "#create the colormap we want for the heatmaps examples: white -> blue -> red\n",
    "\n",
    "colors = [(1, 1, 1), (0.78, 0.84, 0.94), (0.92, 0.69, 0.65)]  # R -> G -> B\n",
    "n_bins = 100  # Discretizes the interpolation into bins\n",
    "cmap_name = 'white_blue_red'\n",
    "\n",
    "# Create the colormap\n",
    "cmap_wbr = LinearSegmentedColormap.from_list(cmap_name, colors, N=n_bins)\n"
   ]
  },
  {
   "cell_type": "markdown",
   "metadata": {},
   "source": [
    "# Initial data import and merge with ReDU table"
   ]
  },
  {
   "cell_type": "code",
   "execution_count": 129,
   "metadata": {},
   "outputs": [],
   "source": [
    "#Import all the outputs from fastMASST\n",
    "Phe_C4 = pd.read_csv('/Users/helenarusso/Downloads/Phe-C4.csv', sep=',')\n",
    "Phe_CA = pd.read_csv('/Users/helenarusso/Downloads/Phe-CA.csv', sep=',')\n",
    "His_C4 = pd.read_csv('/Users/helenarusso/Downloads/His-C4.csv', sep=',')\n",
    "\n",
    "#Filter the 'Delta Mass' column so that the tolerances are within the specified ones\n",
    "Phe_C4 = Phe_C4[(Phe_C4['Delta Mass'] >= -0.05) & (Phe_C4['Delta Mass'] <= 0.05)]\n",
    "Phe_CA = Phe_CA[(Phe_CA['Delta Mass'] >= -0.05) & (Phe_CA['Delta Mass'] <= 0.05)]\n",
    "His_C4 = His_C4[(His_C4['Delta Mass'] >= -0.05) & (His_C4['Delta Mass'] <= 0.05)]\n",
    "\n",
    "#Create a 'Compound' column indicating from which compound each of the outputs is relative to\n",
    "Phe_C4['Compound'] = 'Phenylalanine-C4:0'\n",
    "Phe_CA['Compound'] = 'Phenylalanine-CA'\n",
    "His_C4['Compound'] = 'Histidine-C4:0'\n",
    "\n",
    "#And let's concatenate all of them vertically to have all in one dataframe\n",
    "df = pd.concat([Phe_C4, Phe_CA, His_C4], axis=0)\n",
    "df = df.reset_index(drop=True)\n",
    "\n",
    "#Create a new column in the format Dataset/Filename\n",
    "df['filepath'] = df['Dataset'] + \"/\" + df['USI'].str.split('/').str[-1]\n",
    "df['filepath'] = df['filepath'].str.split(':').str[0] #remove scan number\n",
    "df['filepath'] = df['filepath'].str.replace('.mzML', '') #remove mzML extension\n",
    "df['filepath'] = df['filepath'].str.replace('.mzXML', '') #remove mzXML extension\n"
   ]
  },
  {
   "cell_type": "code",
   "execution_count": 130,
   "metadata": {},
   "outputs": [],
   "source": [
    "#Import ReDU table (can be downloaded from https://redu.gnps2.org/)\n",
    "#For the example in this protocol, the ReDU table was doenloaded in July2nd, 2024\n",
    "df_redu = pd.read_csv('/Users/helenarusso/Downloads/all_sampleinformation.tsv', sep='\\t')\n",
    "\n",
    "#Create new column 'filename_2' with the file name, remove the .mzML and .mzXML extensions, and create\n",
    "#another column in the Dataset/Filename format\n",
    "df_redu['filename_2'] = df_redu['filename'].str.split('/').str[-1]\n",
    "df_redu['filename_2'] = df_redu['filename_2'].str.replace('.mzML', '')\n",
    "df_redu['filename_2'] = df_redu['filename_2'].str.replace('.mzXML', '')\n",
    "df_redu['filepath'] = df_redu['ATTRIBUTE_DatasetAccession'].astype(str).str.cat(df_redu[['filename_2']].astype(str),\n",
    "                                                                                sep='/')\n",
    "\n",
    "#Merge with the fastMASST result table on the 'filepath' column created for the two dataframes\n",
    "df_merged = pd.merge(df, df_redu, on='filepath', how='left')\n",
    "\n",
    "#Standardize all the skin body parts to only 'skin', and blood plasma and serum to 'blood'\n",
    "df_merged['UBERONBodyPartName'] = df_merged['UBERONBodyPartName'].str.replace('skin of trunk','skin')\n",
    "df_merged['UBERONBodyPartName'] = df_merged['UBERONBodyPartName'].str.replace('skin of pes','skin')\n",
    "df_merged['UBERONBodyPartName'] = df_merged['UBERONBodyPartName'].str.replace('head or neck skin','skin')\n",
    "df_merged['UBERONBodyPartName'] = df_merged['UBERONBodyPartName'].str.replace('axilla skin','skin')\n",
    "df_merged['UBERONBodyPartName'] = df_merged['UBERONBodyPartName'].str.replace('skin of manus','skin')\n",
    "df_merged['UBERONBodyPartName'] = df_merged['UBERONBodyPartName'].str.replace('arm skin','skin')\n",
    "df_merged['UBERONBodyPartName'] = df_merged['UBERONBodyPartName'].str.replace('blood plasma','blood')\n",
    "df_merged['UBERONBodyPartName'] = df_merged['UBERONBodyPartName'].str.replace('blood serum','blood')\n"
   ]
  },
  {
   "cell_type": "code",
   "execution_count": 131,
   "metadata": {},
   "outputs": [],
   "source": [
    "#Now let's split into human-related data and rodent-related data\n",
    "\n",
    "df_humans = df_merged.loc[df_merged['NCBITaxonomy'] == '9606|Homo sapiens']\n",
    "\n",
    "list_rodents = ['10088|Mus','10090|Mus musculus','10105|Mus minutoides','10114|Rattus', '10116|Rattus norvegicus']\n",
    "df_rodents = df_merged[df_merged['NCBITaxonomy'].isin(list_rodents)]"
   ]
  },
  {
   "cell_type": "code",
   "execution_count": null,
   "metadata": {},
   "outputs": [],
   "source": []
  },
  {
   "cell_type": "markdown",
   "metadata": {},
   "source": [
    "# Counts table"
   ]
  },
  {
   "cell_type": "code",
   "execution_count": 132,
   "metadata": {},
   "outputs": [],
   "source": [
    "#Now we can write a function to get us a table summarizing all the different compounds and number of scans\n",
    "#retrieved in fastMASST for all the body parts"
   ]
  },
  {
   "cell_type": "code",
   "execution_count": 133,
   "metadata": {},
   "outputs": [],
   "source": [
    "def analyze_counts(df, column_interest):\n",
    "    '''\n",
    "    Prepare a table with counts of the fastMASST results.\n",
    "    \n",
    "    Parameters:\n",
    "    - df: A dataframe with the fastMASST results merged with ReDU table. In this example, df_humans or df_rodents.\n",
    "    - column_interest: The name of the column to calculate the counts.\n",
    "    \n",
    "    Returns:\n",
    "    - A DataFrame containing counts of each compound for each of the entries in the column specified.\n",
    "    '''\n",
    "    \n",
    "    \n",
    "    #create a list of all the body parts and create a dataframe for these body parts\n",
    "    list_body_parts = df[column_interest].unique().tolist()\n",
    "    df_body_parts = pd.DataFrame(list_body_parts, columns=[column_interest])\n",
    "    \n",
    "    #count occurrences of each UBERONBodyPartName in the input data\n",
    "    df_BodyPartName_counts = df[column_interest].value_counts().rename_axis(column_interest).reset_index(name='Counts_fastMASST')\n",
    "                      \n",
    "    # Aggregate the number and list of unique Compounds for each body part\n",
    "    compounds = df.groupby(column_interest)['Compound'].agg(['nunique', lambda x: ', '.join(map(str, x.unique()))]).reset_index()\n",
    "    compounds.columns = [column_interest, 'Compounds', 'CompoundsList']\n",
    "    \n",
    "    # Merge all the data into a single DataFrame\n",
    "    combined = pd.merge(df_body_parts, df_BodyPartName_counts, on=column_interest, how='left')\n",
    "    combined = pd.merge(combined, compounds, on=column_interest, how='left')\n",
    "\n",
    "    return combined\n",
    "    "
   ]
  },
  {
   "cell_type": "code",
   "execution_count": 134,
   "metadata": {},
   "outputs": [
    {
     "data": {
      "text/html": [
       "<div>\n",
       "<style scoped>\n",
       "    .dataframe tbody tr th:only-of-type {\n",
       "        vertical-align: middle;\n",
       "    }\n",
       "\n",
       "    .dataframe tbody tr th {\n",
       "        vertical-align: top;\n",
       "    }\n",
       "\n",
       "    .dataframe thead th {\n",
       "        text-align: right;\n",
       "    }\n",
       "</style>\n",
       "<table border=\"1\" class=\"dataframe\">\n",
       "  <thead>\n",
       "    <tr style=\"text-align: right;\">\n",
       "      <th></th>\n",
       "      <th>UBERONBodyPartName</th>\n",
       "      <th>Counts_fastMASST</th>\n",
       "      <th>Compounds</th>\n",
       "      <th>CompoundsList</th>\n",
       "    </tr>\n",
       "  </thead>\n",
       "  <tbody>\n",
       "    <tr>\n",
       "      <th>0</th>\n",
       "      <td>feces</td>\n",
       "      <td>571</td>\n",
       "      <td>3</td>\n",
       "      <td>Phenylalanine-C4:0, Phenylalanine-CA, Histidin...</td>\n",
       "    </tr>\n",
       "    <tr>\n",
       "      <th>1</th>\n",
       "      <td>missing value</td>\n",
       "      <td>12</td>\n",
       "      <td>2</td>\n",
       "      <td>Phenylalanine-C4:0, Histidine-C4:0</td>\n",
       "    </tr>\n",
       "    <tr>\n",
       "      <th>2</th>\n",
       "      <td>urine</td>\n",
       "      <td>3</td>\n",
       "      <td>2</td>\n",
       "      <td>Phenylalanine-C4:0, Histidine-C4:0</td>\n",
       "    </tr>\n",
       "    <tr>\n",
       "      <th>3</th>\n",
       "      <td>saliva</td>\n",
       "      <td>2</td>\n",
       "      <td>1</td>\n",
       "      <td>Phenylalanine-C4:0</td>\n",
       "    </tr>\n",
       "    <tr>\n",
       "      <th>4</th>\n",
       "      <td>oral cavity</td>\n",
       "      <td>2</td>\n",
       "      <td>2</td>\n",
       "      <td>Phenylalanine-C4:0, Phenylalanine-CA</td>\n",
       "    </tr>\n",
       "  </tbody>\n",
       "</table>\n",
       "</div>"
      ],
      "text/plain": [
       "  UBERONBodyPartName  Counts_fastMASST  Compounds  \\\n",
       "0              feces               571          3   \n",
       "1      missing value                12          2   \n",
       "2              urine                 3          2   \n",
       "3             saliva                 2          1   \n",
       "4        oral cavity                 2          2   \n",
       "\n",
       "                                       CompoundsList  \n",
       "0  Phenylalanine-C4:0, Phenylalanine-CA, Histidin...  \n",
       "1                 Phenylalanine-C4:0, Histidine-C4:0  \n",
       "2                 Phenylalanine-C4:0, Histidine-C4:0  \n",
       "3                                 Phenylalanine-C4:0  \n",
       "4               Phenylalanine-C4:0, Phenylalanine-CA  "
      ]
     },
     "execution_count": 134,
     "metadata": {},
     "output_type": "execute_result"
    }
   ],
   "source": [
    "#To use the function above, enter df_rodents or df_humans, and select the column you want to create a counts table\n",
    "body_counts = analyze_counts(df_humans, 'UBERONBodyPartName')\n",
    "body_counts.head()"
   ]
  },
  {
   "cell_type": "code",
   "execution_count": null,
   "metadata": {},
   "outputs": [],
   "source": []
  },
  {
   "cell_type": "markdown",
   "metadata": {},
   "source": [
    "# Heatmaps - Counts"
   ]
  },
  {
   "cell_type": "code",
   "execution_count": 135,
   "metadata": {},
   "outputs": [],
   "source": [
    "#We can also write another function to get us a pivot table for heatmap plot.\n",
    "#This section of the notebook will focus on getting the counts obseved for each body part."
   ]
  },
  {
   "cell_type": "code",
   "execution_count": 136,
   "metadata": {},
   "outputs": [],
   "source": [
    "def prepare_pivot_table(df, column_interest, compound):\n",
    "    \n",
    "    '''\n",
    "    Prepare a pivot table with counts of the fastMASST results for each compound in each value of the \n",
    "    desired ReDU column.\n",
    "    \n",
    "    Parameters:\n",
    "    - df: A dataframe with the fastMASST results merged with ReDU table. In this example, df_humans or df_rodents.\n",
    "    - column_interest: The name of the column to calculate the counts. This column will be used as rows in the \n",
    "    pivot table.\n",
    "    - compound: The name of the column that will be used to calculate counts. This column will be used as columns \n",
    "    in the pivot table.\n",
    "    \n",
    "    Returns:\n",
    "    - A DataFrame containing counts of each compound for each of the entries in the column specified.\n",
    "    Each column will be each of the compounds inputed (imported from the fastMASST results).\n",
    "    \n",
    "    '''\n",
    "\n",
    "    # Group 'Compound' and the column of interest from ReDU to create the heatmap, and count the occurrences\n",
    "    grouped_df = df.groupby([compound, column_interest]).size().reset_index(name='Count')\n",
    "    \n",
    "    # Create a pivot table with the the grouped dataframe (each compound in a column)\n",
    "    pivot_table = grouped_df.pivot(index=column_interest, columns=compound, values='Count').fillna(0)\n",
    "    pivot_table.reset_index(inplace=True)\n",
    "    \n",
    "    \n",
    "    return pivot_table"
   ]
  },
  {
   "cell_type": "code",
   "execution_count": 137,
   "metadata": {},
   "outputs": [],
   "source": [
    "# Apply the function to retrieve a table to be used to create heatmaps\n",
    "\n",
    "variable = 'UBERONBodyPartName'   #Select the column from ReDU you would like to get heatmaps on\n",
    "\n",
    "pivot_table = prepare_pivot_table(df_rodents, variable, 'Compound')"
   ]
  },
  {
   "cell_type": "code",
   "execution_count": 138,
   "metadata": {},
   "outputs": [
    {
     "data": {
      "image/png": "[encoded data removed]",
      "text/plain": [
       "<Figure size 144x576 with 4 Axes>"
      ]
     },
     "metadata": {
      "needs_background": "light"
     },
     "output_type": "display_data"
    }
   ],
   "source": [
    "###########################################################################################\n",
    "###########################################################################################\n",
    "\n",
    "## IMPORTANT: MORE INFORMATION CAN BE FOUND IN THE MATPLOTLIB AND SEABORN DOCUMENTATIONS ##\n",
    "## THIS IS JUST AN EXAMPLE OF HOW THESE PACKAGES CAN BE USED TO GENERATE A HEATMAP OF THE #\n",
    "## FASST SEARCHES RESULTS  ################################################################\n",
    "\n",
    "###########################################################################################\n",
    "###########################################################################################\n",
    "\n",
    "columns_for_heatmap = pivot_table.columns[1:]  #Specify that the first column should not be used for the heatmap\n",
    "                                               #construction since it is categorical\n",
    "fig = sns.clustermap(\n",
    "    pivot_table[columns_for_heatmap], \n",
    "    col_cluster=False,    #This can be set as True or False in case you want the columns to cluster\n",
    "    row_cluster=False,    #This can be set as True or False in case you want the rows to cluster\n",
    "    cmap = cmap_wbr,      #Let's use the colormap created at the beginning of the script. More are available in\n",
    "                          #the matplotlib documentation.\n",
    "    yticklabels=pivot_table[variable],  #Define tick labels as the column with the pre-selected variable\n",
    "    linewidths=0.005,\n",
    "    linecolor = 'white',\n",
    "    cbar_kws={'orientation': 'horizontal'}\n",
    ")\n",
    "\n",
    "fig.ax_heatmap.yaxis.set_ticks_position('left')  # Y ticks position to the left\n",
    "fig.ax_heatmap.yaxis.set_label_position('left')  # Y labels position to the left\n",
    "fig.ax_heatmap.set_xticklabels(fig.ax_heatmap.get_xticklabels(), rotation=90)  #Rotate 90 degrees the X labels\n",
    "\n",
    "cax = fig.ax_cbar  #Create a figure for the colorbar\n",
    "cax.set_position([-0.25, -0.15, .3, .05])  # Adjust the position and size of the color bar\n",
    "cbar = fig.ax_heatmap.collections[0].colorbar   #Retrieves the color bar object\n",
    "cbar.set_label('Spectral matches', fontsize=10)  # Set the desired font size for the color bar label\n",
    "\n",
    "fig.ax_heatmap.xaxis.set_label_coords(0.5, -0.5) #coordinate X axis title - more to the bottom\n",
    "\n",
    "heatmap_title = f\"{variable}\"  #Define the title\n",
    "heatmap_title_obj = fig.ax_heatmap.set_title(heatmap_title, fontsize=14, weight='bold') #Define Title layout\n",
    "\n",
    "line_count = len(pivot_table[variable].unique())\n",
    "fig.ax_heatmap.axhline(y=line_count, color='black', linewidth=1.5)  #Define position of the horizontal black line \n",
    "                                                                    #(same length as the number of rows)\n",
    "fig.ax_heatmap.axvline(x=0, color='black', linewidth=1.5)    #Define position of the vertical line - zero\n",
    "\n",
    "plt.gcf().set_size_inches(2, 8)    #Set the size of the final figure\n",
    "\n",
    "# fig.savefig('.../heatmap.pdf')\n"
   ]
  },
  {
   "cell_type": "code",
   "execution_count": null,
   "metadata": {},
   "outputs": [],
   "source": []
  },
  {
   "cell_type": "markdown",
   "metadata": {},
   "source": [
    "# Heatmaps - Counts in log scale"
   ]
  },
  {
   "cell_type": "code",
   "execution_count": 139,
   "metadata": {},
   "outputs": [],
   "source": [
    "def prepare_pivot_table(df, column_interest, compound):\n",
    "    \n",
    "    '''\n",
    "    Prepare a pivot table with counts of the fastMASST results for each compound in each value of the \n",
    "    desired ReDU column.\n",
    "    \n",
    "    Parameters:\n",
    "    - df: A dataframe with the fastMASST results merged with ReDU table. In this example, df_humans or df_rodents.\n",
    "    - column_interest: The name of the column to calculate the counts. This column will be used as rows in the \n",
    "    pivot table.\n",
    "    - compound: The name of the column that will be used to calculate counts. This column will be used as columns \n",
    "    in the pivot table.\n",
    "    \n",
    "    Returns:\n",
    "    - A DataFrame containing counts of each compound for each of the entries in the column specified.\n",
    "    Each column will be each of the compounds inputed (imported from the fastMASST results).\n",
    "    \n",
    "    '''\n",
    "\n",
    "    # Group 'Compound' and the column of interest from ReDU to create the heatmap, and count the occurrences\n",
    "    grouped_df = df.groupby([compound, column_interest]).size().reset_index(name='Count')\n",
    "    \n",
    "    # Create a pivot table with the the grouped dataframe (each compound in a column)\n",
    "    pivot_table = grouped_df.pivot(index=column_interest, columns=compound, values='Count').fillna(0)\n",
    "    pivot_table.reset_index(inplace=True)\n",
    "    \n",
    "    #log2 transform\n",
    "    columns_for_heatmap = pivot_table.columns[1:] #Not consider the first column with the body parts\n",
    "    pivot_table[columns_for_heatmap] = pivot_table[columns_for_heatmap] + 1\n",
    "    log_transformed = np.log2(pivot_table[columns_for_heatmap])\n",
    "    log_transformed = pd.concat([pivot_table[column_interest], log_transformed], axis=1)\n",
    "    \n",
    "    return log_transformed"
   ]
  },
  {
   "cell_type": "code",
   "execution_count": 140,
   "metadata": {},
   "outputs": [],
   "source": [
    "# Apply the function to retrieve a table to be used to create heatmaps\n",
    "\n",
    "variable = 'UBERONBodyPartName'   #Select the column from ReDU you would like to get heatmaps on\n",
    "\n",
    "log_transformed = prepare_pivot_table(df_rodents, variable, 'Compound')"
   ]
  },
  {
   "cell_type": "code",
   "execution_count": 141,
   "metadata": {},
   "outputs": [
    {
     "data": {
      "image/png": "[encoded data removed]",
      "text/plain": [
       "<Figure size 108x576 with 4 Axes>"
      ]
     },
     "metadata": {
      "needs_background": "light"
     },
     "output_type": "display_data"
    }
   ],
   "source": [
    "###########################################################################################\n",
    "###########################################################################################\n",
    "\n",
    "## IMPORTANT: MORE INFORMATION CAN BE FOUND IN THE MATPLOTLIB AND SEABORN DOCUMENTATIONS ##\n",
    "## THIS IS JUST AN EXAMPLE OF HOW THESE PACKAGES CAN BE USED TO GENERATE A HEATMAP OF THE #\n",
    "## FASTMASST RESULTS  #####################################################################\n",
    "\n",
    "###########################################################################################\n",
    "###########################################################################################\n",
    "\n",
    "columns_for_heatmap = log_transformed.columns[1:]  #Specify that the first column should not be used for the heatmap\n",
    "                                               #construction since it is categorical\n",
    "fig = sns.clustermap(\n",
    "    log_transformed[columns_for_heatmap], \n",
    "    col_cluster=True,     #This can be set as True or False in case you want the columns to cluster\n",
    "    method = 'complete',  #Example with method = complete\n",
    "    metric = 'euclidean', #Example with euclidean distance\n",
    "    row_cluster=False,    #This can be set as True or False in case you want the rows to cluster\n",
    "    cmap = cmap_wbr,      #Let's use the colormap created at the beginning of the script. More are available in\n",
    "                          #the matplotlib documentation.\n",
    "    yticklabels=log_transformed[variable],  #Define tick labels as the column with the pre-selected variable\n",
    "    linewidths=0.005,\n",
    "    linecolor = 'white',\n",
    "    cbar_kws={'orientation': 'horizontal'}\n",
    ")\n",
    "\n",
    "fig.ax_heatmap.yaxis.set_ticks_position('left')  # Y ticks position to the left\n",
    "fig.ax_heatmap.yaxis.set_label_position('left')  # Y labels position to the left\n",
    "fig.ax_heatmap.set_xticklabels(fig.ax_heatmap.get_xticklabels(), rotation=90)  #Rotate 90 degrees the X labels\n",
    "\n",
    "cax = fig.ax_cbar  #Create a figure for the colorbar\n",
    "cax.set_position([-0.25, -0.15, .3, .05])  # Adjust the position and size of the color bar\n",
    "cbar = fig.ax_heatmap.collections[0].colorbar   #Retrieves the color bar object\n",
    "cbar.set_label('log(spectral matches)', fontsize=10)  # Set the desired font size for the color bar label\n",
    "\n",
    "fig.ax_heatmap.xaxis.set_label_coords(0.5, -0.5) #coordinate X axis title - more to the bottom\n",
    "\n",
    "heatmap_title = f\"{variable}\"  #Define the title\n",
    "heatmap_title_obj = fig.ax_heatmap.set_title(heatmap_title, fontsize=14, weight='bold') #Define Title layout\n",
    "\n",
    "line_count = len(log_transformed[variable].unique())\n",
    "fig.ax_heatmap.axhline(y=line_count, color='black', linewidth=1.5)  #Define position of the horizontal black line \n",
    "                                                                    #(same length as the number of rows)\n",
    "fig.ax_heatmap.axvline(x=0, color='black', linewidth=1.5)    #Define position of the vertical line - zero\n",
    "\n",
    "plt.gcf().set_size_inches(1.5, 8)    #Set the size of the final figure\n",
    "\n",
    "# fig.savefig('.../heatmap.pdf')\n"
   ]
  },
  {
   "cell_type": "code",
   "execution_count": null,
   "metadata": {},
   "outputs": [],
   "source": []
  },
  {
   "cell_type": "code",
   "execution_count": null,
   "metadata": {},
   "outputs": [],
   "source": []
  },
  {
   "cell_type": "markdown",
   "metadata": {},
   "source": [
    "# Heatmaps - Normalization based on ReDU"
   ]
  },
  {
   "cell_type": "code",
   "execution_count": 142,
   "metadata": {},
   "outputs": [],
   "source": [
    "#We can also write another function to get us a pivot table for heatmap plot with data normalized to what is\n",
    "#available in ReDU. In this way, we also take into account the amount of data available in the public domain.\n",
    "#This section of the notebook will focus on getting the normalized counts obseved for each HealthStatus.\n",
    "\n",
    "#This is important because there might be more data from specific diseases in the public domain compared to \n",
    "#others, and then associations can be skewed based on data availability.\n",
    "\n",
    "#In this example, we want to show the disease distribution (DOIDCommonName column in ReDU). Therefore, we \n",
    "#first need to get the information of how many files are there for each DOIDCommonName in ReDU - both for humans\n",
    "# and rodents"
   ]
  },
  {
   "cell_type": "code",
   "execution_count": 143,
   "metadata": {},
   "outputs": [],
   "source": [
    "#Split the ReDU table into human-related data and rodent-related data\n",
    "\n",
    "df_redu_humans = df_redu.loc[df_redu['NCBITaxonomy'] == '9606|Homo sapiens']\n",
    "\n",
    "list_rodents = ['10088|Mus','10090|Mus musculus','10105|Mus minutoides','10114|Rattus', '10116|Rattus norvegicus']\n",
    "df_redu_rodents = df_redu[df_redu['NCBITaxonomy'].isin(list_rodents)]\n",
    "\n",
    "#And retrieve how many files are there for each DOIDCommonName in each organism\n",
    "df_redu_DOIDCommonName_humans = df_redu_humans['DOIDCommonName'].value_counts().reset_index().rename(columns={\"index\": \"DOIDCommonName\", 'DOIDCommonName': 'DOIDCommonName_counts'})\n",
    "df_redu_DOIDCommonName_rodents = df_redu_rodents['DOIDCommonName'].value_counts().reset_index().rename(columns={\"index\": \"DOIDCommonName\", 'DOIDCommonName': 'DOIDCommonName_counts'})\n"
   ]
  },
  {
   "cell_type": "code",
   "execution_count": 144,
   "metadata": {},
   "outputs": [],
   "source": [
    "def prepare_pivot_table(df, column_interest, compound, df_redu_DOIDCommonName, redu_count_col):\n",
    "    \n",
    "    '''\n",
    "    Prepare a pivot table with counts of the fastMASST results for each compound in each value of the \n",
    "    desired ReDU column.\n",
    "    \n",
    "    Parameters:\n",
    "    - df: A dataframe with the fastMASST results merged with ReDU table. In this example, df_humans or df_rodents.\n",
    "    - column_interest: The name of the column to calculate the counts. This column will be used as rows in the \n",
    "    pivot table.\n",
    "    - compound: The name of the column that will be used to calculate counts. This column will be used as columns \n",
    "    in the pivot table.\n",
    "    \n",
    "    Returns:\n",
    "    - A DataFrame containing counts of each compound for each of the entries in the column specified.\n",
    "    Each column will be each of the compounds inputed (imported from the fastMASST results).\n",
    "    \n",
    "    '''\n",
    "\n",
    "    # Group 'Compound' and the column of interest from ReDU to create the heatmap, and count the occurrences\n",
    "    grouped_df = df.groupby([compound, column_interest]).size().reset_index(name='Count')\n",
    "    \n",
    "    # Create a pivot table with the the grouped dataframe (each compound in a column)\n",
    "    pivot_table = grouped_df.pivot(index=column_interest, columns=compound, values='Count').fillna(0)\n",
    "    pivot_table.reset_index(inplace=True)\n",
    "    \n",
    "    # Merge with ReDU DOIDCommonName dataframe for normalization\n",
    "    pivot_table = pd.merge(pivot_table, df_redu_DOIDCommonName, on=column_interest, how='left')\n",
    "    \n",
    "    # Normalize the pivot table (divide the counts from fastMASST by the number of files available on ReDU for\n",
    "    # each DOIDCommonName)\n",
    "    columns_to_normalize = pivot_table.columns.difference([column_interest, redu_count_col])\n",
    "    pivot_table[columns_to_normalize] = pivot_table[columns_to_normalize].div(pivot_table[redu_count_col], axis=0)\n",
    "    pivot_table.drop(redu_count_col, axis=1, inplace=True)\n",
    "    \n",
    "    #To get the relative abundance (based on counts) calculation for each compound, we need to first sum up the \n",
    "    #values for each column (Compound)\n",
    "    sums = pivot_table.select_dtypes(include='number').sum().to_dict()\n",
    "    sums['DOIDCommonName'] = 'Sum'  \n",
    "    pivot_table = pivot_table.append(sums, ignore_index=True)  #create a new row with the Sum values for each column\n",
    "    \n",
    "    # Normalize each numeric column by the total to get the percentages\n",
    "    for column in pivot_table.select_dtypes(include='number').columns:\n",
    "        total_value = pivot_table[column].iloc[-1]  # Get the total from the last row of the column\n",
    "        pivot_table[column] = pivot_table[column] / total_value * 100\n",
    "\n",
    "    #drop the sum row\n",
    "    pivot_table = pivot_table.drop(pivot_table[pivot_table['DOIDCommonName'] == 'Sum'].index)\n",
    "    \n",
    "    \n",
    "    return pivot_table"
   ]
  },
  {
   "cell_type": "code",
   "execution_count": 145,
   "metadata": {},
   "outputs": [],
   "source": [
    "# Apply the function to retrieve a table to be used to create heatmaps\n",
    "# Make sure to specify df_rodents and df_redu_DOIDCommonName_rodents or df_humans and \n",
    "# df_humans_DOIDCommonName_rodents for our examples.\n",
    "\n",
    "column_interest = 'DOIDCommonName'   #Select the column from ReDU you would like to get heatmaps on\n",
    "\n",
    "pivot_table = prepare_pivot_table(df_humans, column_interest, 'Compound', df_redu_DOIDCommonName_humans,\n",
    "                          f'{column_interest}_counts')"
   ]
  },
  {
   "cell_type": "code",
   "execution_count": 146,
   "metadata": {},
   "outputs": [
    {
     "data": {
      "image/png": "[encoded data removed]",
      "text/plain": [
       "<Figure size 144x360 with 4 Axes>"
      ]
     },
     "metadata": {
      "needs_background": "light"
     },
     "output_type": "display_data"
    }
   ],
   "source": [
    "###########################################################################################\n",
    "###########################################################################################\n",
    "\n",
    "## IMPORTANT: MORE INFORMATION CAN BE FOUND IN THE MATPLOTLIB AND SEABORN DOCUMENTATIONS ##\n",
    "## THIS IS JUST AN EXAMPLE OF HOW THESE PACKAGES CAN BE USED TO GENERATE A HEATMAP OF THE #\n",
    "## FASTMASST RESULTS  #####################################################################\n",
    "\n",
    "###########################################################################################\n",
    "###########################################################################################\n",
    "\n",
    "columns_for_heatmap = pivot_table.columns[1:]  #Specify that the first column should not be used for the heatmap\n",
    "                                               #construction since it is categorical\n",
    "fig = sns.clustermap(\n",
    "    pivot_table[columns_for_heatmap], \n",
    "    col_cluster=True,     #This can be set as True or False in case you want the columns to cluster\n",
    "    method = 'complete',  #Example with method = complete\n",
    "    metric = 'euclidean', #Example with euclidean distance\n",
    "    row_cluster=False,    #This can be set as True or False in case you want the rows to cluster\n",
    "    cmap = cmap_wbr,      #Let's use the colormap created at the beginning of the script. More are available in\n",
    "                          #the matplotlib documentation.\n",
    "    yticklabels=pivot_table[column_interest],  #Define tick labels as the column with the pre-selected variable\n",
    "    linewidths=0.005,\n",
    "    linecolor = 'white',\n",
    "    cbar_kws={'orientation': 'horizontal'}\n",
    ")\n",
    "\n",
    "fig.ax_heatmap.yaxis.set_ticks_position('left')  # Y ticks position to the left\n",
    "fig.ax_heatmap.yaxis.set_label_position('left')  # Y labels position to the left\n",
    "fig.ax_heatmap.set_xticklabels(fig.ax_heatmap.get_xticklabels(), rotation=90)  #Rotate 90 degrees the X labels\n",
    "\n",
    "cax = fig.ax_cbar  #Create a figure for the colorbar\n",
    "cax.set_position([-0.25, -0.15, .3, .05])  # Adjust the position and size of the color bar\n",
    "cbar = fig.ax_heatmap.collections[0].colorbar   #Retrieves the color bar object\n",
    "cbar.set_label('Spectral matches', fontsize=10)  # Set the desired font size for the color bar label\n",
    "\n",
    "fig.ax_heatmap.xaxis.set_label_coords(0.5, -0.5) #coordinate X axis title - more to the bottom\n",
    "\n",
    "heatmap_title = f\"{column_interest}\"  #Define the title\n",
    "heatmap_title_obj = fig.ax_heatmap.set_title(heatmap_title, fontsize=14, weight='bold') #Define Title layout\n",
    "\n",
    "line_count = len(pivot_table[column_interest].unique())\n",
    "fig.ax_heatmap.axhline(y=line_count, color='black', linewidth=1.5)  #Define position of the horizontal black line \n",
    "                                                                    #(same length as the number of rows)\n",
    "fig.ax_heatmap.axvline(x=0, color='black', linewidth=1.5)    #Define position of the vertical line - zero\n",
    "\n",
    "plt.gcf().set_size_inches(2, 5)    #Set the size of the final figure\n",
    "\n",
    "# fig.savefig('.../heatmap.pdf')\n"
   ]
  },
  {
   "cell_type": "code",
   "execution_count": null,
   "metadata": {},
   "outputs": [],
   "source": []
  },
  {
   "cell_type": "code",
   "execution_count": null,
   "metadata": {},
   "outputs": [],
   "source": []
  }
 ],
 "metadata": {
  "kernelspec": {
   "display_name": "Python 3",
   "language": "python",
   "name": "python3"
  },
  "language_info": {
   "codemirror_mode": {
    "name": "ipython",
    "version": 3
   },
   "file_extension": ".py",
   "mimetype": "text/x-python",
   "name": "python",
   "nbconvert_exporter": "python",
   "pygments_lexer": "ipython3",
   "version": "3.7.6"
  }
 },
 "nbformat": 4,
 "nbformat_minor": 4
}
